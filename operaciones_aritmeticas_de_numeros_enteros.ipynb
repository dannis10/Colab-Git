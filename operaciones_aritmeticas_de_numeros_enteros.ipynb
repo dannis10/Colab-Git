{
  "nbformat": 4,
  "nbformat_minor": 0,
  "metadata": {
    "colab": {
      "provenance": [],
      "authorship_tag": "ABX9TyNvV/oQXVJ1ufyFUKJMm2Ec",
      "include_colab_link": true
    },
    "kernelspec": {
      "name": "python3",
      "display_name": "Python 3"
    },
    "language_info": {
      "name": "python"
    }
  },
  "cells": [
    {
      "cell_type": "markdown",
      "metadata": {
        "id": "view-in-github",
        "colab_type": "text"
      },
      "source": [
        "<a href=\"https://colab.research.google.com/github/dannis10/Colab-Git/blob/desarrollo/operaciones_aritmeticas_de_numeros_enteros.ipynb\" target=\"_parent\"><img src=\"https://colab.research.google.com/assets/colab-badge.svg\" alt=\"Open In Colab\"/></a>"
      ]
    },
    {
      "cell_type": "code",
      "execution_count": null,
      "metadata": {
        "id": "OOabU5E255Fk"
      },
      "outputs": [],
      "source": [
        "#Función para sumar dos números\n",
        "def sumar (a,b):\n",
        "  return a+b"
      ]
    },
    {
      "cell_type": "code",
      "source": [
        "#Función para restar dos números\n",
        "def restar (a,b):\n",
        "  return a-b"
      ],
      "metadata": {
        "id": "6ZOZJaxQXz7o"
      },
      "execution_count": null,
      "outputs": []
    },
    {
      "cell_type": "code",
      "source": [
        "#Función para multiplicar dos números\n",
        "def multiplicar (a,b):\n",
        "  return a*b"
      ],
      "metadata": {
        "id": "PUgvjTd9X_VG"
      },
      "execution_count": null,
      "outputs": []
    },
    {
      "cell_type": "code",
      "source": [
        "#Función para dividir dos números\n",
        "def dividir (a,b):\n",
        "  #Manejo de división entre cero\n",
        "  if b != 0:\n",
        "    return a/b\n",
        "  else:\n",
        "    return \"Error: No se puede dividir entre 0\""
      ],
      "metadata": {
        "id": "g5SAQZYNYIOn"
      },
      "execution_count": null,
      "outputs": []
    },
    {
      "cell_type": "code",
      "source": [
        "  #Solicitar números al usuario\n",
        "  try:\n",
        "    numero1= int(input(\"Introduce el primer número entero: \"))\n",
        "    numero2= int(input(\"Introduce el segundo número entero: \"))\n",
        "\n",
        "    #Realizar las operaciones\n",
        "    suma=sumar(numero1,numero2)\n",
        "    resta=restar(numero1,numero2)\n",
        "    multiplicacion=multiplicar(numero1,numero2)\n",
        "    division=dividir(numero1,numero2)\n",
        "\n",
        "    #Mostrar resultados\n",
        "    print(f\"Suma: {suma}\")\n",
        "    print(f\"Resta: {resta}\")\n",
        "    print(f\"Multiplicación: {multiplicacion}\")\n",
        "    print(f\"División: {division}\")\n",
        "\n",
        "  except ValueError:\n",
        "    print(\"Por favor, introduce valores numéricos válidos.\")"
      ],
      "metadata": {
        "colab": {
          "base_uri": "https://localhost:8080/"
        },
        "id": "ISQleUW3YNc_",
        "outputId": "d2df0bc5-3f16-472e-8f34-18592b309439"
      },
      "execution_count": null,
      "outputs": [
        {
          "output_type": "stream",
          "name": "stdout",
          "text": [
            "Introduce el primer número entero: 5\n",
            "Introduce el segundo número entero: 2\n",
            "Suma: 7\n",
            "Resta: 3\n",
            "Multiplicación: 10\n",
            "División: 2.5\n"
          ]
        }
      ]
    }
  ]
}